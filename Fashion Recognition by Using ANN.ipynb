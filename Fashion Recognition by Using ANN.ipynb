{
 "cells": [
  {
   "cell_type": "code",
   "execution_count": 1,
   "id": "57ef96d6",
   "metadata": {},
   "outputs": [
    {
     "data": {
      "text/plain": [
       "device(type='cuda', index=0)"
      ]
     },
     "execution_count": 1,
     "metadata": {},
     "output_type": "execute_result"
    }
   ],
   "source": [
    "import torch\n",
    "from torch import nn, optim\n",
    "from jcopdl.callback import Callback, set_config\n",
    "\n",
    "device = torch.device(\"cuda:0\" if torch.cuda.is_available() else \"cpu\")\n",
    "device"
   ]
  },
  {
   "cell_type": "code",
   "execution_count": 2,
   "id": "4aabad30",
   "metadata": {},
   "outputs": [
    {
     "data": {
      "text/plain": [
       "'1.11.0'"
      ]
     },
     "execution_count": 2,
     "metadata": {},
     "output_type": "execute_result"
    }
   ],
   "source": [
    "torch.__version__"
   ]
  },
  {
   "cell_type": "markdown",
   "id": "d6770042",
   "metadata": {},
   "source": [
    "# 1. Dataset & Dataloader"
   ]
  },
  {
   "cell_type": "code",
   "execution_count": 3,
   "id": "fd087f5c",
   "metadata": {},
   "outputs": [],
   "source": [
    "from torchvision import datasets, transforms\n",
    "from torch.utils.data import DataLoader"
   ]
  },
  {
   "cell_type": "code",
   "execution_count": 4,
   "id": "1c5a3677",
   "metadata": {},
   "outputs": [],
   "source": [
    "#MENYIAPKAN DATA TRAIN DAN DATA TEST\n",
    "\n",
    "bs = 128 #jumlah batch_size (bs) pada minibatch nya\n",
    "\n",
    "transform = transforms.Compose([\n",
    "    transforms.Grayscale(),\n",
    "    transforms.ToTensor()\n",
    "])\n",
    "\n",
    "train_set = datasets.ImageFolder('data/train/', transform= transform)\n",
    "trainloader = DataLoader(train_set, batch_size= bs, shuffle=True)\n",
    "\n",
    "test_set = datasets.ImageFolder('data/test', transform=transform)\n",
    "testloader = DataLoader(test_set, batch_size= bs, shuffle=True)\n",
    "\n",
    "#Di sini data train dan data testnya dishuffle\n",
    "#Pada data test itu gak wajib dishuffle, tapi dalam hal ini mau dishuffle"
   ]
  },
  {
   "cell_type": "code",
   "execution_count": 5,
   "id": "e61862b8",
   "metadata": {},
   "outputs": [
    {
     "data": {
      "text/plain": [
       "torch.Size([128, 1, 28, 28])"
      ]
     },
     "execution_count": 5,
     "metadata": {},
     "output_type": "execute_result"
    }
   ],
   "source": [
    "feature, target = next(iter(trainloader))\n",
    "feature.shape"
   ]
  },
  {
   "cell_type": "code",
   "execution_count": 6,
   "id": "af636305",
   "metadata": {},
   "outputs": [
    {
     "data": {
      "text/plain": [
       "['Ankle boot',\n",
       " 'Bag',\n",
       " 'Coat',\n",
       " 'Dress',\n",
       " 'Pullover',\n",
       " 'Sandal',\n",
       " 'Shirt',\n",
       " 'Sneaker',\n",
       " 'T-shirt or Top',\n",
       " 'Trouser']"
      ]
     },
     "execution_count": 6,
     "metadata": {},
     "output_type": "execute_result"
    }
   ],
   "source": [
    "label2cat = train_set.classes\n",
    "label2cat"
   ]
  },
  {
   "cell_type": "markdown",
   "id": "abab96f7",
   "metadata": {},
   "source": [
    "# 2. Arsitektur & Config"
   ]
  },
  {
   "cell_type": "code",
   "execution_count": 7,
   "id": "76e98403",
   "metadata": {},
   "outputs": [],
   "source": [
    "from jcopdl.layers import linear_block"
   ]
  },
  {
   "cell_type": "markdown",
   "id": "6ff719d6",
   "metadata": {},
   "source": [
    "## 2.1 Arsitektur"
   ]
  },
  {
   "cell_type": "code",
   "execution_count": 8,
   "id": "f5f68912",
   "metadata": {},
   "outputs": [],
   "source": [
    "class FashionClassifier(nn.Module):\n",
    "    \n",
    "    def __init__(self, input_size, n1, n2, output_size, dropout = 0.2):\n",
    "        super().__init__()\n",
    "        \n",
    "        self.fc = nn.Sequential(\n",
    "                                nn.Flatten(),\n",
    "                                linear_block(input_size, n1, dropout=dropout),\n",
    "                                linear_block(n1, n2, dropout= dropout),\n",
    "                                linear_block(n2, output_size, activation='lsoftmax'\n",
    "                                )\n",
    "        )\n",
    "        \n",
    "        \n",
    "    def forward (self, x):\n",
    "        return self.fc(x)"
   ]
  },
  {
   "cell_type": "markdown",
   "id": "658d3158",
   "metadata": {},
   "source": [
    "## 2.2 Config"
   ]
  },
  {
   "cell_type": "code",
   "execution_count": 9,
   "id": "44ab14f5",
   "metadata": {},
   "outputs": [],
   "source": [
    "config = set_config({\n",
    "                    'input_size': 784,\n",
    "                    'n1': 256,\n",
    "                    'n2': 64,\n",
    "                    'output_size': len(train_set.classes),\n",
    "                    'dropout': 0.2  \n",
    "})"
   ]
  },
  {
   "cell_type": "markdown",
   "id": "4163a107",
   "metadata": {},
   "source": [
    "# 3. Training Preparation"
   ]
  },
  {
   "cell_type": "code",
   "execution_count": 10,
   "id": "6fd714a4",
   "metadata": {},
   "outputs": [],
   "source": [
    "from tqdm.auto import tqdm"
   ]
  },
  {
   "cell_type": "code",
   "execution_count": 11,
   "id": "69fd1fce",
   "metadata": {},
   "outputs": [],
   "source": [
    "model = FashionClassifier(config.input_size, config.output_size, config.n1, config.n2, config.dropout).to(device)\n",
    "criterion = nn.NLLLoss()\n",
    "optimizer = optim.AdamW(model.parameters(), lr= 0.001)\n",
    "callback = Callback(model, config, outdir='model')"
   ]
  },
  {
   "cell_type": "markdown",
   "id": "a1a4dbcd",
   "metadata": {},
   "source": [
    "# 4. Training Model"
   ]
  },
  {
   "cell_type": "code",
   "execution_count": 12,
   "id": "e5f5d59d",
   "metadata": {},
   "outputs": [],
   "source": [
    "#TRAINING MODEL\n",
    "\n",
    "def loop_fn(mode, dataset, dataloader, model, criterion, optimizer, device):\n",
    "    if mode == 'train':\n",
    "        model.train()\n",
    "    \n",
    "    elif mode == 'test':\n",
    "        model.eval()\n",
    "        \n",
    "    cost = correct = 0\n",
    "    for feature, target in tqdm(dataloader, desc = mode.title()):\n",
    "        feature, target = feature.to(device), target.to(device)\n",
    "        output = model(feature) #feedforward\n",
    "        loss = criterion(output, target) #hitung loss\n",
    "        \n",
    "        if mode == 'train':\n",
    "            loss.backward() #backpropagation \n",
    "            optimizer.step() #update weight\n",
    "            optimizer.zero_grad() #zero gradient\n",
    "            \n",
    "        cost += loss.item() * feature.shape[0]\n",
    "        correct += (output.argmax(1) == target).sum().item()\n",
    "        \n",
    "    cost = cost / len(dataset) #menghitung nilai cost (total loss) berdasarkan cost yang didapatkan terhadap total (len) datasetnya (train_set dan test_set) yang ada\n",
    "    acc = correct / len (dataset) #menghitung 'accuracy (acc)' berdasarkan prediksi yang benar (Correct) terhadap total (len) datasetnya (train_set dan test_set) yang ada\n",
    "    \n",
    "    return cost, acc"
   ]
  },
  {
   "cell_type": "code",
   "execution_count": 13,
   "id": "0d0d2ded",
   "metadata": {},
   "outputs": [
    {
     "data": {
      "application/vnd.jupyter.widget-view+json": {
       "model_id": "4d1378111f3e482a861bdf6ac3dd6e75",
       "version_major": 2,
       "version_minor": 0
      },
      "text/plain": [
       "Train:   0%|          | 0/313 [00:00<?, ?it/s]"
      ]
     },
     "metadata": {},
     "output_type": "display_data"
    },
    {
     "data": {
      "application/vnd.jupyter.widget-view+json": {
       "model_id": "8f052ac0cdef41a699eb348ceb9ad687",
       "version_major": 2,
       "version_minor": 0
      },
      "text/plain": [
       "Test:   0%|          | 0/157 [00:00<?, ?it/s]"
      ]
     },
     "metadata": {},
     "output_type": "display_data"
    },
    {
     "name": "stdout",
     "output_type": "stream",
     "text": [
      "\n",
      "Epoch     1\n",
      "Train_cost  = 1.2616 | Test_cost  = 0.6510 | Train_score = 0.5394 | Test_score = 0.7722 |\n"
     ]
    },
    {
     "data": {
      "application/vnd.jupyter.widget-view+json": {
       "model_id": "8e450f439b4148af8cb1f59721d36a5d",
       "version_major": 2,
       "version_minor": 0
      },
      "text/plain": [
       "Train:   0%|          | 0/313 [00:00<?, ?it/s]"
      ]
     },
     "metadata": {},
     "output_type": "display_data"
    },
    {
     "data": {
      "application/vnd.jupyter.widget-view+json": {
       "model_id": "599c9869f85a411cb0757bc26e174764",
       "version_major": 2,
       "version_minor": 0
      },
      "text/plain": [
       "Test:   0%|          | 0/157 [00:00<?, ?it/s]"
      ]
     },
     "metadata": {},
     "output_type": "display_data"
    },
    {
     "name": "stdout",
     "output_type": "stream",
     "text": [
      "\n",
      "Epoch     2\n",
      "Train_cost  = 0.7506 | Test_cost  = 0.5521 | Train_score = 0.7281 | Test_score = 0.8084 |\n"
     ]
    },
    {
     "data": {
      "application/vnd.jupyter.widget-view+json": {
       "model_id": "c574406b38344891b077f6f06dc7f39e",
       "version_major": 2,
       "version_minor": 0
      },
      "text/plain": [
       "Train:   0%|          | 0/313 [00:00<?, ?it/s]"
      ]
     },
     "metadata": {},
     "output_type": "display_data"
    },
    {
     "data": {
      "application/vnd.jupyter.widget-view+json": {
       "model_id": "0589d105b77949f1889e581a184ed79a",
       "version_major": 2,
       "version_minor": 0
      },
      "text/plain": [
       "Test:   0%|          | 0/157 [00:00<?, ?it/s]"
      ]
     },
     "metadata": {},
     "output_type": "display_data"
    },
    {
     "name": "stdout",
     "output_type": "stream",
     "text": [
      "\n",
      "Epoch     3\n",
      "Train_cost  = 0.6626 | Test_cost  = 0.5192 | Train_score = 0.7605 | Test_score = 0.8101 |\n"
     ]
    },
    {
     "data": {
      "application/vnd.jupyter.widget-view+json": {
       "model_id": "22f9ed3ddc4b47d9b8350565df34fae8",
       "version_major": 2,
       "version_minor": 0
      },
      "text/plain": [
       "Train:   0%|          | 0/313 [00:00<?, ?it/s]"
      ]
     },
     "metadata": {},
     "output_type": "display_data"
    },
    {
     "data": {
      "application/vnd.jupyter.widget-view+json": {
       "model_id": "c77d7b2c3b274c009f5d89695229d2f7",
       "version_major": 2,
       "version_minor": 0
      },
      "text/plain": [
       "Test:   0%|          | 0/157 [00:00<?, ?it/s]"
      ]
     },
     "metadata": {},
     "output_type": "display_data"
    },
    {
     "name": "stdout",
     "output_type": "stream",
     "text": [
      "\n",
      "Epoch     4\n",
      "Train_cost  = 0.6257 | Test_cost  = 0.4855 | Train_score = 0.7756 | Test_score = 0.8296 |\n"
     ]
    },
    {
     "data": {
      "application/vnd.jupyter.widget-view+json": {
       "model_id": "f91db0ff6cee4347b0f47ee944b72c58",
       "version_major": 2,
       "version_minor": 0
      },
      "text/plain": [
       "Train:   0%|          | 0/313 [00:00<?, ?it/s]"
      ]
     },
     "metadata": {},
     "output_type": "display_data"
    },
    {
     "data": {
      "application/vnd.jupyter.widget-view+json": {
       "model_id": "cbf462d268804f35a5c5bbbf70565204",
       "version_major": 2,
       "version_minor": 0
      },
      "text/plain": [
       "Test:   0%|          | 0/157 [00:00<?, ?it/s]"
      ]
     },
     "metadata": {},
     "output_type": "display_data"
    },
    {
     "name": "stdout",
     "output_type": "stream",
     "text": [
      "\n",
      "Epoch     5\n",
      "Train_cost  = 0.6034 | Test_cost  = 0.4689 | Train_score = 0.7847 | Test_score = 0.8317 |\n"
     ]
    },
    {
     "data": {
      "application/vnd.jupyter.widget-view+json": {
       "model_id": "5f49a159c72a4dc7a8578d1a6064f8b9",
       "version_major": 2,
       "version_minor": 0
      },
      "text/plain": [
       "Train:   0%|          | 0/313 [00:00<?, ?it/s]"
      ]
     },
     "metadata": {},
     "output_type": "display_data"
    },
    {
     "data": {
      "application/vnd.jupyter.widget-view+json": {
       "model_id": "03c6a2cdfdba4dec89a19cebc1015bd3",
       "version_major": 2,
       "version_minor": 0
      },
      "text/plain": [
       "Test:   0%|          | 0/157 [00:00<?, ?it/s]"
      ]
     },
     "metadata": {},
     "output_type": "display_data"
    },
    {
     "name": "stdout",
     "output_type": "stream",
     "text": [
      "\n",
      "Epoch     6\n",
      "Train_cost  = 0.5787 | Test_cost  = 0.4616 | Train_score = 0.7933 | Test_score = 0.8383 |\n"
     ]
    },
    {
     "data": {
      "application/vnd.jupyter.widget-view+json": {
       "model_id": "6c57e482b4064290bf869773996893f2",
       "version_major": 2,
       "version_minor": 0
      },
      "text/plain": [
       "Train:   0%|          | 0/313 [00:00<?, ?it/s]"
      ]
     },
     "metadata": {},
     "output_type": "display_data"
    },
    {
     "data": {
      "application/vnd.jupyter.widget-view+json": {
       "model_id": "5647678def9d42f3bde5fd6c795a84be",
       "version_major": 2,
       "version_minor": 0
      },
      "text/plain": [
       "Test:   0%|          | 0/157 [00:00<?, ?it/s]"
      ]
     },
     "metadata": {},
     "output_type": "display_data"
    },
    {
     "name": "stdout",
     "output_type": "stream",
     "text": [
      "\n",
      "Epoch     7\n",
      "Train_cost  = 0.5647 | Test_cost  = 0.4706 | Train_score = 0.7970 | Test_score = 0.8341 |\n",
      "\u001b[31m==> EarlyStop patience =  1 | Best test_score: 0.8383\u001b[0m\n"
     ]
    },
    {
     "data": {
      "application/vnd.jupyter.widget-view+json": {
       "model_id": "f26fe3bac54d4c85819446f451f81596",
       "version_major": 2,
       "version_minor": 0
      },
      "text/plain": [
       "Train:   0%|          | 0/313 [00:00<?, ?it/s]"
      ]
     },
     "metadata": {},
     "output_type": "display_data"
    },
    {
     "data": {
      "application/vnd.jupyter.widget-view+json": {
       "model_id": "5173dab382e742fe8d8134ffb9940523",
       "version_major": 2,
       "version_minor": 0
      },
      "text/plain": [
       "Test:   0%|          | 0/157 [00:00<?, ?it/s]"
      ]
     },
     "metadata": {},
     "output_type": "display_data"
    },
    {
     "name": "stdout",
     "output_type": "stream",
     "text": [
      "\n",
      "Epoch     8\n",
      "Train_cost  = 0.5593 | Test_cost  = 0.4706 | Train_score = 0.8011 | Test_score = 0.8315 |\n",
      "\u001b[31m==> EarlyStop patience =  2 | Best test_score: 0.8383\u001b[0m\n"
     ]
    },
    {
     "data": {
      "application/vnd.jupyter.widget-view+json": {
       "model_id": "e38b3c8884fd43b9b0406409061b1924",
       "version_major": 2,
       "version_minor": 0
      },
      "text/plain": [
       "Train:   0%|          | 0/313 [00:00<?, ?it/s]"
      ]
     },
     "metadata": {},
     "output_type": "display_data"
    },
    {
     "data": {
      "application/vnd.jupyter.widget-view+json": {
       "model_id": "88cb651e6c704f94b9ce107c9783dc7c",
       "version_major": 2,
       "version_minor": 0
      },
      "text/plain": [
       "Test:   0%|          | 0/157 [00:00<?, ?it/s]"
      ]
     },
     "metadata": {},
     "output_type": "display_data"
    },
    {
     "name": "stdout",
     "output_type": "stream",
     "text": [
      "\n",
      "Epoch     9\n",
      "Train_cost  = 0.5506 | Test_cost  = 0.4755 | Train_score = 0.8031 | Test_score = 0.8257 |\n",
      "\u001b[31m==> EarlyStop patience =  3 | Best test_score: 0.8383\u001b[0m\n"
     ]
    },
    {
     "data": {
      "application/vnd.jupyter.widget-view+json": {
       "model_id": "74f4456e97e848e2b7fc1d10ac7f903e",
       "version_major": 2,
       "version_minor": 0
      },
      "text/plain": [
       "Train:   0%|          | 0/313 [00:00<?, ?it/s]"
      ]
     },
     "metadata": {},
     "output_type": "display_data"
    },
    {
     "data": {
      "application/vnd.jupyter.widget-view+json": {
       "model_id": "ce36528a5b894b138d82bc8bee2edb35",
       "version_major": 2,
       "version_minor": 0
      },
      "text/plain": [
       "Test:   0%|          | 0/157 [00:00<?, ?it/s]"
      ]
     },
     "metadata": {},
     "output_type": "display_data"
    },
    {
     "name": "stdout",
     "output_type": "stream",
     "text": [
      "\n",
      "Epoch    10\n",
      "Train_cost  = 0.5468 | Test_cost  = 0.4516 | Train_score = 0.8040 | Test_score = 0.8379 |\n",
      "\u001b[31m==> EarlyStop patience =  4 | Best test_score: 0.8383\u001b[0m\n"
     ]
    },
    {
     "data": {
      "application/vnd.jupyter.widget-view+json": {
       "model_id": "2a1368e09eba4e0ea4e1d0374de69aca",
       "version_major": 2,
       "version_minor": 0
      },
      "text/plain": [
       "Train:   0%|          | 0/313 [00:00<?, ?it/s]"
      ]
     },
     "metadata": {},
     "output_type": "display_data"
    },
    {
     "data": {
      "application/vnd.jupyter.widget-view+json": {
       "model_id": "c484883084d24e1db39246cad12a78bc",
       "version_major": 2,
       "version_minor": 0
      },
      "text/plain": [
       "Test:   0%|          | 0/157 [00:00<?, ?it/s]"
      ]
     },
     "metadata": {},
     "output_type": "display_data"
    },
    {
     "name": "stdout",
     "output_type": "stream",
     "text": [
      "\n",
      "Epoch    11\n",
      "Train_cost  = 0.5422 | Test_cost  = 0.4485 | Train_score = 0.8075 | Test_score = 0.8387 |\n"
     ]
    },
    {
     "data": {
      "application/vnd.jupyter.widget-view+json": {
       "model_id": "3fe2cad8c68e4a9397a86f8a7621d862",
       "version_major": 2,
       "version_minor": 0
      },
      "text/plain": [
       "Train:   0%|          | 0/313 [00:00<?, ?it/s]"
      ]
     },
     "metadata": {},
     "output_type": "display_data"
    },
    {
     "data": {
      "application/vnd.jupyter.widget-view+json": {
       "model_id": "faea6354497c4132aafca77cf7c60ad7",
       "version_major": 2,
       "version_minor": 0
      },
      "text/plain": [
       "Test:   0%|          | 0/157 [00:00<?, ?it/s]"
      ]
     },
     "metadata": {},
     "output_type": "display_data"
    },
    {
     "name": "stdout",
     "output_type": "stream",
     "text": [
      "\n",
      "Epoch    12\n",
      "Train_cost  = 0.5388 | Test_cost  = 0.4638 | Train_score = 0.8057 | Test_score = 0.8356 |\n",
      "\u001b[31m==> EarlyStop patience =  1 | Best test_score: 0.8387\u001b[0m\n"
     ]
    },
    {
     "data": {
      "application/vnd.jupyter.widget-view+json": {
       "model_id": "7962432e612f423a886b13ee0421cc73",
       "version_major": 2,
       "version_minor": 0
      },
      "text/plain": [
       "Train:   0%|          | 0/313 [00:00<?, ?it/s]"
      ]
     },
     "metadata": {},
     "output_type": "display_data"
    },
    {
     "data": {
      "application/vnd.jupyter.widget-view+json": {
       "model_id": "1c1d9780803540afae165cf178c78207",
       "version_major": 2,
       "version_minor": 0
      },
      "text/plain": [
       "Test:   0%|          | 0/157 [00:00<?, ?it/s]"
      ]
     },
     "metadata": {},
     "output_type": "display_data"
    },
    {
     "name": "stdout",
     "output_type": "stream",
     "text": [
      "\n",
      "Epoch    13\n",
      "Train_cost  = 0.5291 | Test_cost  = 0.4563 | Train_score = 0.8097 | Test_score = 0.8395 |\n"
     ]
    },
    {
     "data": {
      "application/vnd.jupyter.widget-view+json": {
       "model_id": "de8a4f2bce0043518bbda01b3a8be402",
       "version_major": 2,
       "version_minor": 0
      },
      "text/plain": [
       "Train:   0%|          | 0/313 [00:00<?, ?it/s]"
      ]
     },
     "metadata": {},
     "output_type": "display_data"
    },
    {
     "data": {
      "application/vnd.jupyter.widget-view+json": {
       "model_id": "2006320df33c492abb4b6f6bb53b1ce0",
       "version_major": 2,
       "version_minor": 0
      },
      "text/plain": [
       "Test:   0%|          | 0/157 [00:00<?, ?it/s]"
      ]
     },
     "metadata": {},
     "output_type": "display_data"
    },
    {
     "name": "stdout",
     "output_type": "stream",
     "text": [
      "\n",
      "Epoch    14\n",
      "Train_cost  = 0.5285 | Test_cost  = 0.4444 | Train_score = 0.8111 | Test_score = 0.8427 |\n"
     ]
    },
    {
     "data": {
      "application/vnd.jupyter.widget-view+json": {
       "model_id": "fd12e548a8f843d89fa6eaf407459507",
       "version_major": 2,
       "version_minor": 0
      },
      "text/plain": [
       "Train:   0%|          | 0/313 [00:00<?, ?it/s]"
      ]
     },
     "metadata": {},
     "output_type": "display_data"
    },
    {
     "data": {
      "application/vnd.jupyter.widget-view+json": {
       "model_id": "aaf39aceec5a4ab08b551b5fae6b63f6",
       "version_major": 2,
       "version_minor": 0
      },
      "text/plain": [
       "Test:   0%|          | 0/157 [00:00<?, ?it/s]"
      ]
     },
     "metadata": {},
     "output_type": "display_data"
    },
    {
     "name": "stdout",
     "output_type": "stream",
     "text": [
      "\n",
      "Epoch    15\n",
      "Train_cost  = 0.5194 | Test_cost  = 0.4381 | Train_score = 0.8135 | Test_score = 0.8441 |\n"
     ]
    },
    {
     "data": {
      "application/vnd.jupyter.widget-view+json": {
       "model_id": "d6f9cb10fb4e4aaea6f65c4372e7003e",
       "version_major": 2,
       "version_minor": 0
      },
      "text/plain": [
       "Train:   0%|          | 0/313 [00:00<?, ?it/s]"
      ]
     },
     "metadata": {},
     "output_type": "display_data"
    },
    {
     "data": {
      "application/vnd.jupyter.widget-view+json": {
       "model_id": "19f1eef08e1e4cdeaf419d173e92f53c",
       "version_major": 2,
       "version_minor": 0
      },
      "text/plain": [
       "Test:   0%|          | 0/157 [00:00<?, ?it/s]"
      ]
     },
     "metadata": {},
     "output_type": "display_data"
    },
    {
     "name": "stdout",
     "output_type": "stream",
     "text": [
      "\n",
      "Epoch    16\n",
      "Train_cost  = 0.5218 | Test_cost  = 0.4371 | Train_score = 0.8151 | Test_score = 0.8444 |\n"
     ]
    },
    {
     "data": {
      "application/vnd.jupyter.widget-view+json": {
       "model_id": "23d2fc8174934912900e6ecb9c6bf8f6",
       "version_major": 2,
       "version_minor": 0
      },
      "text/plain": [
       "Train:   0%|          | 0/313 [00:00<?, ?it/s]"
      ]
     },
     "metadata": {},
     "output_type": "display_data"
    },
    {
     "data": {
      "application/vnd.jupyter.widget-view+json": {
       "model_id": "aaac8985da9b4f2f921efbb6a86abe9c",
       "version_major": 2,
       "version_minor": 0
      },
      "text/plain": [
       "Test:   0%|          | 0/157 [00:00<?, ?it/s]"
      ]
     },
     "metadata": {},
     "output_type": "display_data"
    },
    {
     "name": "stdout",
     "output_type": "stream",
     "text": [
      "\n",
      "Epoch    17\n",
      "Train_cost  = 0.5164 | Test_cost  = 0.4331 | Train_score = 0.8155 | Test_score = 0.8492 |\n"
     ]
    },
    {
     "data": {
      "application/vnd.jupyter.widget-view+json": {
       "model_id": "7c927ca3c28e4008bf9dfc37e084eb39",
       "version_major": 2,
       "version_minor": 0
      },
      "text/plain": [
       "Train:   0%|          | 0/313 [00:00<?, ?it/s]"
      ]
     },
     "metadata": {},
     "output_type": "display_data"
    },
    {
     "data": {
      "application/vnd.jupyter.widget-view+json": {
       "model_id": "172f2887b2d24f11a86b0be6d1c5d428",
       "version_major": 2,
       "version_minor": 0
      },
      "text/plain": [
       "Test:   0%|          | 0/157 [00:00<?, ?it/s]"
      ]
     },
     "metadata": {},
     "output_type": "display_data"
    },
    {
     "name": "stdout",
     "output_type": "stream",
     "text": [
      "\n",
      "Epoch    18\n",
      "Train_cost  = 0.5111 | Test_cost  = 0.4580 | Train_score = 0.8182 | Test_score = 0.8300 |\n",
      "\u001b[31m==> EarlyStop patience =  1 | Best test_score: 0.8492\u001b[0m\n"
     ]
    },
    {
     "data": {
      "application/vnd.jupyter.widget-view+json": {
       "model_id": "b078634b57d54effa848d379184ad6d2",
       "version_major": 2,
       "version_minor": 0
      },
      "text/plain": [
       "Train:   0%|          | 0/313 [00:00<?, ?it/s]"
      ]
     },
     "metadata": {},
     "output_type": "display_data"
    },
    {
     "data": {
      "application/vnd.jupyter.widget-view+json": {
       "model_id": "4e386883a52a4dacbce067e7fba10c95",
       "version_major": 2,
       "version_minor": 0
      },
      "text/plain": [
       "Test:   0%|          | 0/157 [00:00<?, ?it/s]"
      ]
     },
     "metadata": {},
     "output_type": "display_data"
    },
    {
     "name": "stdout",
     "output_type": "stream",
     "text": [
      "\n",
      "Epoch    19\n",
      "Train_cost  = 0.5126 | Test_cost  = 0.4306 | Train_score = 0.8161 | Test_score = 0.8467 |\n",
      "\u001b[31m==> EarlyStop patience =  2 | Best test_score: 0.8492\u001b[0m\n"
     ]
    },
    {
     "data": {
      "application/vnd.jupyter.widget-view+json": {
       "model_id": "11c9ecfa05804197a1ba5403d01a1407",
       "version_major": 2,
       "version_minor": 0
      },
      "text/plain": [
       "Train:   0%|          | 0/313 [00:00<?, ?it/s]"
      ]
     },
     "metadata": {},
     "output_type": "display_data"
    },
    {
     "data": {
      "application/vnd.jupyter.widget-view+json": {
       "model_id": "f54a5d5f54024e76b01f1a96b3f16e12",
       "version_major": 2,
       "version_minor": 0
      },
      "text/plain": [
       "Test:   0%|          | 0/157 [00:00<?, ?it/s]"
      ]
     },
     "metadata": {},
     "output_type": "display_data"
    },
    {
     "name": "stdout",
     "output_type": "stream",
     "text": [
      "\n",
      "Epoch    20\n",
      "Train_cost  = 0.5079 | Test_cost  = 0.4410 | Train_score = 0.8168 | Test_score = 0.8463 |\n"
     ]
    },
    {
     "data": {
      "image/png": "[encoded data removed]",
      "text/plain": [
       "<Figure size 576x360 with 1 Axes>"
      ]
     },
     "metadata": {
      "needs_background": "light"
     },
     "output_type": "display_data"
    },
    {
     "data": {
      "image/png": "[encoded data removed]",
      "text/plain": [
       "<Figure size 576x360 with 1 Axes>"
      ]
     },
     "metadata": {
      "needs_background": "light"
     },
     "output_type": "display_data"
    },
    {
     "name": "stdout",
     "output_type": "stream",
     "text": [
      "\u001b[31m==> EarlyStop patience =  3 | Best test_score: 0.8492\u001b[0m\n"
     ]
    },
    {
     "data": {
      "application/vnd.jupyter.widget-view+json": {
       "model_id": "4dc430b78c9a488da0ba8c62b8e9f3fb",
       "version_major": 2,
       "version_minor": 0
      },
      "text/plain": [
       "Train:   0%|          | 0/313 [00:00<?, ?it/s]"
      ]
     },
     "metadata": {},
     "output_type": "display_data"
    },
    {
     "data": {
      "application/vnd.jupyter.widget-view+json": {
       "model_id": "91651730d71347209fdc7d1d005a2424",
       "version_major": 2,
       "version_minor": 0
      },
      "text/plain": [
       "Test:   0%|          | 0/157 [00:00<?, ?it/s]"
      ]
     },
     "metadata": {},
     "output_type": "display_data"
    },
    {
     "name": "stdout",
     "output_type": "stream",
     "text": [
      "\n",
      "Epoch    21\n",
      "Train_cost  = 0.5026 | Test_cost  = 0.4511 | Train_score = 0.8198 | Test_score = 0.8394 |\n",
      "\u001b[31m==> EarlyStop patience =  4 | Best test_score: 0.8492\u001b[0m\n"
     ]
    },
    {
     "data": {
      "application/vnd.jupyter.widget-view+json": {
       "model_id": "c156639efc1847e39f42560a29043b1e",
       "version_major": 2,
       "version_minor": 0
      },
      "text/plain": [
       "Train:   0%|          | 0/313 [00:00<?, ?it/s]"
      ]
     },
     "metadata": {},
     "output_type": "display_data"
    },
    {
     "data": {
      "application/vnd.jupyter.widget-view+json": {
       "model_id": "75ca237f2cb6498b9c436c11ac1e83b0",
       "version_major": 2,
       "version_minor": 0
      },
      "text/plain": [
       "Test:   0%|          | 0/157 [00:00<?, ?it/s]"
      ]
     },
     "metadata": {},
     "output_type": "display_data"
    },
    {
     "name": "stdout",
     "output_type": "stream",
     "text": [
      "\n",
      "Epoch    22\n",
      "Train_cost  = 0.5024 | Test_cost  = 0.4415 | Train_score = 0.8194 | Test_score = 0.8454 |\n",
      "\u001b[31m==> EarlyStop patience =  5 | Best test_score: 0.8492\u001b[0m\n",
      "\u001b[31m==> Execute Early Stopping at epoch: 22 | Best test_score: 0.8492\u001b[0m\n",
      "\u001b[31m==> Best model is saved at model\u001b[0m\n"
     ]
    },
    {
     "data": {
      "image/png": "[encoded data removed]",
      "text/plain": [
       "<Figure size 576x360 with 1 Axes>"
      ]
     },
     "metadata": {
      "needs_background": "light"
     },
     "output_type": "display_data"
    },
    {
     "data": {
      "image/png": "[encoded data removed]",
      "text/plain": [
       "<Figure size 576x360 with 1 Axes>"
      ]
     },
     "metadata": {
      "needs_background": "light"
     },
     "output_type": "display_data"
    }
   ],
   "source": [
    "while True:\n",
    "    train_cost, train_score = loop_fn('train', train_set, trainloader, model, criterion, optimizer, device)\n",
    "    \n",
    "    with torch.no_grad():\n",
    "        test_cost, test_score = loop_fn('test', test_set, testloader, model, criterion, optimizer, device)\n",
    "        \n",
    "    #Logging\n",
    "    callback.log(train_cost, test_cost, train_score, test_score)\n",
    "    \n",
    "    #Checkpoint\n",
    "    callback.save_checkpoint()\n",
    "    \n",
    "    #Runtime Plotting\n",
    "    callback.cost_runtime_plotting()\n",
    "    callback.score_runtime_plotting()\n",
    "    \n",
    "    #Early Stopping\n",
    "    if callback.early_stopping(model, monitor='test_score'):\n",
    "        callback.plot_cost()\n",
    "        callback.plot_score()\n",
    "        break"
   ]
  },
  {
   "cell_type": "markdown",
   "id": "7a6d2b93",
   "metadata": {},
   "source": [
    "# 5. Prediction"
   ]
  },
  {
   "cell_type": "code",
   "execution_count": 14,
   "id": "9eefc9f4",
   "metadata": {},
   "outputs": [
    {
     "data": {
      "text/plain": [
       "FashionClassifier(\n",
       "  (fc): Sequential(\n",
       "    (0): Flatten(start_dim=1, end_dim=-1)\n",
       "    (1): Sequential(\n",
       "      (0): Linear(in_features=784, out_features=10, bias=True)\n",
       "      (1): ReLU()\n",
       "      (2): Dropout(p=0.2, inplace=False)\n",
       "    )\n",
       "    (2): Sequential(\n",
       "      (0): Linear(in_features=10, out_features=256, bias=True)\n",
       "      (1): ReLU()\n",
       "      (2): Dropout(p=0.2, inplace=False)\n",
       "    )\n",
       "    (3): Sequential(\n",
       "      (0): Linear(in_features=256, out_features=64, bias=True)\n",
       "      (1): LogSoftmax(dim=1)\n",
       "    )\n",
       "  )\n",
       ")"
      ]
     },
     "execution_count": 14,
     "metadata": {},
     "output_type": "execute_result"
    }
   ],
   "source": [
    "#LOAD MODEL\n",
    "\n",
    "model"
   ]
  },
  {
   "cell_type": "code",
   "execution_count": 15,
   "id": "4b4626e1",
   "metadata": {},
   "outputs": [],
   "source": [
    "feature, target = next(iter(testloader))\n",
    "feature, target = feature.to(device), target.to(device)"
   ]
  },
  {
   "cell_type": "code",
   "execution_count": 16,
   "id": "3ff45fd5",
   "metadata": {},
   "outputs": [
    {
     "data": {
      "text/plain": [
       "['Dress',\n",
       " 'Sneaker',\n",
       " 'Sneaker',\n",
       " 'Dress',\n",
       " 'Bag',\n",
       " 'Trouser',\n",
       " 'Dress',\n",
       " 'T-shirt or Top',\n",
       " 'Sandal',\n",
       " 'Ankle boot',\n",
       " 'T-shirt or Top',\n",
       " 'Ankle boot',\n",
       " 'Coat',\n",
       " 'Ankle boot',\n",
       " 'Pullover',\n",
       " 'Sandal',\n",
       " 'Sandal',\n",
       " 'Sandal',\n",
       " 'Sneaker',\n",
       " 'T-shirt or Top',\n",
       " 'Dress',\n",
       " 'Shirt',\n",
       " 'Ankle boot',\n",
       " 'Sneaker',\n",
       " 'Shirt',\n",
       " 'Trouser',\n",
       " 'Bag',\n",
       " 'Ankle boot',\n",
       " 'Sandal',\n",
       " 'Coat',\n",
       " 'Coat',\n",
       " 'T-shirt or Top',\n",
       " 'Trouser',\n",
       " 'Dress',\n",
       " 'Sneaker',\n",
       " 'Ankle boot',\n",
       " 'Sandal',\n",
       " 'Dress',\n",
       " 'T-shirt or Top',\n",
       " 'Dress',\n",
       " 'Pullover',\n",
       " 'Dress',\n",
       " 'Coat',\n",
       " 'Shirt',\n",
       " 'Shirt',\n",
       " 'Coat',\n",
       " 'Dress',\n",
       " 'Coat',\n",
       " 'Sandal',\n",
       " 'Sandal',\n",
       " 'Dress',\n",
       " 'T-shirt or Top',\n",
       " 'Bag',\n",
       " 'Shirt',\n",
       " 'Coat',\n",
       " 'Shirt',\n",
       " 'Sandal',\n",
       " 'Trouser',\n",
       " 'Coat',\n",
       " 'T-shirt or Top',\n",
       " 'Sandal',\n",
       " 'Ankle boot',\n",
       " 'Shirt',\n",
       " 'Bag',\n",
       " 'Trouser',\n",
       " 'Ankle boot',\n",
       " 'Trouser',\n",
       " 'Sandal',\n",
       " 'Trouser',\n",
       " 'Sneaker',\n",
       " 'T-shirt or Top',\n",
       " 'Trouser',\n",
       " 'Coat',\n",
       " 'Shirt',\n",
       " 'Bag',\n",
       " 'T-shirt or Top',\n",
       " 'Sneaker',\n",
       " 'Ankle boot',\n",
       " 'Dress',\n",
       " 'Bag',\n",
       " 'Sneaker',\n",
       " 'Dress',\n",
       " 'Shirt',\n",
       " 'T-shirt or Top',\n",
       " 'Dress',\n",
       " 'Sandal',\n",
       " 'Shirt',\n",
       " 'Trouser',\n",
       " 'Dress',\n",
       " 'Bag',\n",
       " 'Sandal',\n",
       " 'Dress',\n",
       " 'Coat',\n",
       " 'Trouser',\n",
       " 'Trouser',\n",
       " 'Pullover',\n",
       " 'T-shirt or Top',\n",
       " 'Sandal',\n",
       " 'T-shirt or Top',\n",
       " 'Sandal',\n",
       " 'T-shirt or Top',\n",
       " 'Pullover',\n",
       " 'Bag',\n",
       " 'Bag',\n",
       " 'T-shirt or Top',\n",
       " 'Sandal',\n",
       " 'Coat',\n",
       " 'Shirt',\n",
       " 'Shirt',\n",
       " 'Pullover',\n",
       " 'Sneaker',\n",
       " 'T-shirt or Top',\n",
       " 'Coat',\n",
       " 'Coat',\n",
       " 'Trouser',\n",
       " 'T-shirt or Top',\n",
       " 'Dress',\n",
       " 'Sandal',\n",
       " 'Bag',\n",
       " 'Dress',\n",
       " 'Sneaker',\n",
       " 'Bag',\n",
       " 'Shirt',\n",
       " 'T-shirt or Top',\n",
       " 'Sneaker',\n",
       " 'Dress',\n",
       " 'Trouser',\n",
       " 'Pullover']"
      ]
     },
     "execution_count": 16,
     "metadata": {},
     "output_type": "execute_result"
    }
   ],
   "source": [
    "#Prediksi cepat\n",
    "\n",
    "with torch.no_grad():\n",
    "    model.eval()\n",
    "    output = model(feature)\n",
    "    preds = output.argmax(1)\n",
    "    \n",
    "[label2cat[preds] for preds in preds]"
   ]
  },
  {
   "cell_type": "markdown",
   "id": "86e2e6ea",
   "metadata": {},
   "source": [
    "# 6. Visulaization"
   ]
  },
  {
   "cell_type": "code",
   "execution_count": 17,
   "id": "2779eda9",
   "metadata": {},
   "outputs": [],
   "source": [
    "import matplotlib.pyplot as plt"
   ]
  },
  {
   "cell_type": "code",
   "execution_count": 18,
   "id": "325b60cc",
   "metadata": {
    "scrolled": false
   },
   "outputs": [
    {
     "data": {
      "image/png": "[encoded data removed]",
      "text/plain": [
       "<Figure size 1728x1728 with 36 Axes>"
      ]
     },
     "metadata": {
      "needs_background": "light"
     },
     "output_type": "display_data"
    }
   ],
   "source": [
    "fig, axes = plt.subplots(6, 6, figsize = (24, 24))\n",
    "\n",
    "for img, label, pred, ax in zip(feature, target, preds, axes.flatten()): #membubat datanya menjadi flat terlebih dahulu\n",
    "    ax.imshow(img.view(28, 28).cpu(), cmap = 'gray') #mengatur jumlah image (28 x 28 sesuai di shapenya) dan warna\n",
    "    font = {'color':'r'} if label != pred else {'color': 'g'} #mengatur kondisi warna jika true atau false\n",
    "    label, pred = label2cat[label.item()], label2cat[pred.item()] #membuat hasil antara label (target) dan prediksinya (pred)\n",
    "    ax.set_title(f'label: {label} | Pred: {pred}', fontdict = font); #memberi pernak-pernik judul dan labelnya\n",
    "    ax.axis ('off');            "
   ]
  }
 ],
 "metadata": {
  "kernelspec": {
   "display_name": "Python 3 (ipykernel)",
   "language": "python",
   "name": "python3"
  },
  "language_info": {
   "codemirror_mode": {
    "name": "ipython",
    "version": 3
   },
   "file_extension": ".py",
   "mimetype": "text/x-python",
   "name": "python",
   "nbconvert_exporter": "python",
   "pygments_lexer": "ipython3",
   "version": "3.9.7"
  },
  "varInspector": {
   "cols": {
    "lenName": 16,
    "lenType": 16,
    "lenVar": 40
   },
   "kernels_config": {
    "python": {
     "delete_cmd_postfix": "",
     "delete_cmd_prefix": "del ",
     "library": "var_list.py",
     "varRefreshCmd": "print(var_dic_list())"
    },
    "r": {
     "delete_cmd_postfix": ") ",
     "delete_cmd_prefix": "rm(",
     "library": "var_list.r",
     "varRefreshCmd": "cat(var_dic_list()) "
    }
   },
   "types_to_exclude": [
    "module",
    "function",
    "builtin_function_or_method",
    "instance",
    "_Feature"
   ],
   "window_display": false
  }
 },
 "nbformat": 4,
 "nbformat_minor": 5
}
